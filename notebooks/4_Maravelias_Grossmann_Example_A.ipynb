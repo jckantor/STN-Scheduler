{
 "cells": [
  {
   "cell_type": "markdown",
   "metadata": {},
   "source": [
    "# Example from Maravelias and Grossmann, 2003\n",
    "\n",
    "This is a tiny example in the appendix of a paper by Maravelias and Grossman, 2003. The example provides a simple demonstration of translating a STN diagram into the model that can be solved by the STN Scheduler."
   ]
  },
  {
   "cell_type": "code",
   "execution_count": 1,
   "metadata": {},
   "outputs": [
    {
     "data": {
      "image/png": "[encoded data removed]",
      "text/plain": [
       "<IPython.core.display.Image object>"
      ]
     },
     "execution_count": 1,
     "metadata": {},
     "output_type": "execute_result"
    }
   ],
   "source": [
    "from IPython.display import Image\n",
    "Image('../images/MarveliasGrossman2003a.png')"
   ]
  },
  {
   "cell_type": "markdown",
   "metadata": {},
   "source": [
    "### Problem Data\n",
    "\n",
    "| task/unit | duration (h) | max batch size (kg) |\n",
    "| :- | :-: | :-: |\n",
    "|heater/reactor | 1 | 10 |\n",
    "|R1/reactor 1 | 3 | 4 |\n",
    "|R2/reactor 2 | 1 | 2 |\n",
    "|sep/filter   | 2 | 10 |\n",
    "\n",
    "### Reference\n",
    "\n",
    "Maravelias, C. T., and Grossmann 2003). New General Continuous-Time State−Task Network Formulation for Short-Term Scheduling of Multipurpose Batch Plants. Industrial & Engineering Chemistry Research, 42 (13), 3056-3074."
   ]
  },
  {
   "cell_type": "code",
   "execution_count": 2,
   "metadata": {
    "collapsed": true
   },
   "outputs": [],
   "source": [
    "%matplotlib inline\n",
    "\n",
    "import sys\n",
    "sys.path.append('../STN')\n",
    "from STN import STN"
   ]
  },
  {
   "cell_type": "code",
   "execution_count": 3,
   "metadata": {},
   "outputs": [
    {
     "name": "stdout",
     "output_type": "stream",
     "text": [
      "# ==========================================================\n",
      "# = Solver Results                                         =\n",
      "# ==========================================================\n",
      "# ----------------------------------------------------------\n",
      "#   Problem Information\n",
      "# ----------------------------------------------------------\n",
      "Problem: \n",
      "- Name: unknown\n",
      "  Lower bound: 100.0\n",
      "  Upper bound: 100.0\n",
      "  Number of objectives: 1\n",
      "  Number of constraints: 171\n",
      "  Number of variables: 115\n",
      "  Number of nonzeros: 363\n",
      "  Sense: maximize\n",
      "# ----------------------------------------------------------\n",
      "#   Solver Information\n",
      "# ----------------------------------------------------------\n",
      "Solver: \n",
      "- Status: ok\n",
      "  Termination condition: optimal\n",
      "  Statistics: \n",
      "    Branch and bound: \n",
      "      Number of bounded subproblems: 1\n",
      "      Number of created subproblems: 1\n",
      "  Error rc: 0\n",
      "  Time: 0.013355016708374023\n",
      "# ----------------------------------------------------------\n",
      "#   Solution Information\n",
      "# ----------------------------------------------------------\n",
      "Solution: \n",
      "- number of solutions: 0\n",
      "  number of solutions displayed: 0\n"
     ]
    }
   ],
   "source": [
    "# create an empty STN instance\n",
    "stn = STN()\n",
    "\n",
    "# enter any states where there are finite capacity constraints, \n",
    "# initial inventory, or with an associated price. In this problem\n",
    "# we're trying to maximize the production of product B, so we\n",
    "# an arbitrary value for B, and no price for any other state.\n",
    "\n",
    "# states with an initial inventory\n",
    "stn.state('A', init = 100)\n",
    "\n",
    "# price data for product states\n",
    "stn.state('B', price = 10)\n",
    "\n",
    "# state -> task arcs\n",
    "stn.stArc('A',  'Heat')\n",
    "stn.stArc('hA', 'R1')\n",
    "stn.stArc('hA', 'R2')\n",
    "stn.stArc('IB', 'Sep')\n",
    "\n",
    "# task -> state arcs with durations\n",
    "stn.tsArc('Heat', 'hA', dur = 1)\n",
    "stn.tsArc('R1',   'IB', dur = 3)\n",
    "stn.tsArc('R2',   'IB', dur = 1)\n",
    "stn.tsArc('Sep',  'B',  dur = 2)\n",
    "\n",
    "# unit/task data\n",
    "stn.unit('Heater',   'Heat', Bmax = 10)\n",
    "stn.unit('Reactor1', 'R1',   Bmax =  4)\n",
    "stn.unit('Reactor2', 'R2',   Bmax =  2)\n",
    "stn.unit('Filter',   'Sep',  Bmax = 10)\n",
    "\n",
    "# choose a time horizon, then build and solve model\n",
    "H = 6\n",
    "stn.build(range(0,H+1))\n",
    "stn.solve()"
   ]
  },
  {
   "cell_type": "code",
   "execution_count": 4,
   "metadata": {},
   "outputs": [
    {
     "data": {
      "image/png": "[encoded data removed]",
      "text/plain": [
       "<matplotlib.figure.Figure at 0x117953940>"
      ]
     },
     "metadata": {},
     "output_type": "display_data"
    }
   ],
   "source": [
    "stn.gantt()"
   ]
  },
  {
   "cell_type": "code",
   "execution_count": 5,
   "metadata": {
    "scrolled": false
   },
   "outputs": [
    {
     "name": "stdout",
     "output_type": "stream",
     "text": [
      "\n",
      "Starting Conditions\n",
      "\n",
      "    Initial State Inventories are:\n",
      "        hA             0.0 kg\n",
      "        IB             0.0 kg\n",
      "        A            100.0 kg\n",
      "        B              0.0 kg\n",
      "\n",
      "Time = 0 hr\n",
      "\n",
      "    1. Assign Heater to Heat for 10.00 kg batch for 1.0 hours\n",
      "    2. Transfer 10.00 from A to Heater\n",
      "\n",
      "    State Inventories are now:\n",
      "        hA             0.0 kg\n",
      "        IB             0.0 kg\n",
      "        A             90.0 kg\n",
      "        B              0.0 kg\n",
      "\n",
      "    Unit Assignments are now:\n",
      "        Filter is unassigned\n",
      "        Reactor1 is unassigned\n",
      "        Heater on Heat with 10.00 kg batch for hour 1 of 1\n",
      "        Reactor2 is unassigned\n",
      "\n",
      "Time = 1 hr\n",
      "\n",
      "    1. Transfer 10.00 kg from Heater to hA\n",
      "    2. Assign Reactor1 to R1 for 4.00 kg batch for 3.0 hours\n",
      "    3. Transfer 4.00 from hA to Reactor1\n",
      "    4. Release Heater from Heat\n",
      "    5. Assign Reactor2 to R2 for 2.00 kg batch for 1.0 hours\n",
      "    6. Transfer 2.00 from hA to Reactor2\n",
      "\n",
      "    State Inventories are now:\n",
      "        hA             4.0 kg\n",
      "        IB             0.0 kg\n",
      "        A             90.0 kg\n",
      "        B              0.0 kg\n",
      "\n",
      "    Unit Assignments are now:\n",
      "        Filter is unassigned\n",
      "        Reactor1 on R1 with 4.00 kg batch for hour 1 of 3\n",
      "        Heater is unassigned\n",
      "        Reactor2 on R2 with 2.00 kg batch for hour 1 of 1\n",
      "\n",
      "Time = 2 hr\n",
      "\n",
      "    1. Transfer 2.00 kg from Reactor2 to IB\n",
      "    2. Release Reactor2 from R2\n",
      "    3. Assign Reactor2 to R2 for 2.00 kg batch for 1.0 hours\n",
      "    4. Transfer 2.00 from hA to Reactor2\n",
      "\n",
      "    State Inventories are now:\n",
      "        hA             2.0 kg\n",
      "        IB             2.0 kg\n",
      "        A             90.0 kg\n",
      "        B              0.0 kg\n",
      "\n",
      "    Unit Assignments are now:\n",
      "        Filter is unassigned\n",
      "        Reactor1 on R1 with 4.00 kg batch for hour 2 of 3\n",
      "        Heater is unassigned\n",
      "        Reactor2 on R2 with 2.00 kg batch for hour 1 of 1\n",
      "\n",
      "Time = 3 hr\n",
      "\n",
      "    1. Transfer 2.00 kg from Reactor2 to IB\n",
      "    2. Release Reactor2 from R2\n",
      "    3. Assign Reactor2 to R2 for 2.00 kg batch for 1.0 hours\n",
      "    4. Transfer 2.00 from hA to Reactor2\n",
      "\n",
      "    State Inventories are now:\n",
      "        hA             0.0 kg\n",
      "        IB             4.0 kg\n",
      "        A             90.0 kg\n",
      "        B              0.0 kg\n",
      "\n",
      "    Unit Assignments are now:\n",
      "        Filter is unassigned\n",
      "        Reactor1 on R1 with 4.00 kg batch for hour 3 of 3\n",
      "        Heater is unassigned\n",
      "        Reactor2 on R2 with 2.00 kg batch for hour 1 of 1\n",
      "\n",
      "Time = 4 hr\n",
      "\n",
      "    1. Transfer 4.00 kg from Reactor1 to IB\n",
      "    2. Transfer 2.00 kg from Reactor2 to IB\n",
      "    3. Assign Filter to Sep for 10.00 kg batch for 2.0 hours\n",
      "    4. Transfer 10.00 from IB to Filter\n",
      "    5. Release Reactor1 from R1\n",
      "    6. Release Reactor2 from R2\n",
      "\n",
      "    State Inventories are now:\n",
      "        hA             0.0 kg\n",
      "        IB             0.0 kg\n",
      "        A             90.0 kg\n",
      "        B              0.0 kg\n",
      "\n",
      "    Unit Assignments are now:\n",
      "        Filter on Sep with 10.00 kg batch for hour 1 of 2\n",
      "        Reactor1 is unassigned\n",
      "        Heater is unassigned\n",
      "        Reactor2 is unassigned\n",
      "\n",
      "Time = 5 hr\n",
      "\n",
      "    State Inventories are now:\n",
      "        hA             0.0 kg\n",
      "        IB             0.0 kg\n",
      "        A             90.0 kg\n",
      "        B              0.0 kg\n",
      "\n",
      "    Unit Assignments are now:\n",
      "        Filter on Sep with 10.00 kg batch for hour 2 of 2\n",
      "        Reactor1 is unassigned\n",
      "        Heater is unassigned\n",
      "        Reactor2 is unassigned\n",
      "\n",
      "Time = 6 hr\n",
      "\n",
      "    1. Transfer 10.00 kg from Filter to B\n",
      "    2. Release Filter from Sep\n",
      "\n",
      "    State Inventories are now:\n",
      "        hA             0.0 kg\n",
      "        IB             0.0 kg\n",
      "        A             90.0 kg\n",
      "        B             10.0 kg\n",
      "\n",
      "    Unit Assignments are now:\n",
      "        Filter is unassigned\n",
      "        Reactor1 is unassigned\n",
      "        Heater is unassigned\n",
      "        Reactor2 is unassigned\n"
     ]
    }
   ],
   "source": [
    "stn.trace()"
   ]
  },
  {
   "cell_type": "code",
   "execution_count": null,
   "metadata": {
    "collapsed": true
   },
   "outputs": [],
   "source": []
  }
 ],
 "metadata": {
  "kernelspec": {
   "display_name": "Python 3",
   "language": "python",
   "name": "python3"
  },
  "language_info": {
   "codemirror_mode": {
    "name": "ipython",
    "version": 3
   },
   "file_extension": ".py",
   "mimetype": "text/x-python",
   "name": "python",
   "nbconvert_exporter": "python",
   "pygments_lexer": "ipython3",
   "version": "3.6.4"
  }
 },
 "nbformat": 4,
 "nbformat_minor": 2
}
