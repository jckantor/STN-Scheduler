{
 "cells": [
  {
   "cell_type": "code",
   "execution_count": 44,
   "metadata": {},
   "outputs": [],
   "source": [
    "import numpy as np\n",
    "\n",
    "class STN():\n",
    "    \n",
    "    \"\"\"Create a state-task network object.\n",
    "    \n",
    "    \"\"\"\n",
    "    \n",
    "    def __init__(self, H=10):\n",
    "        self.H = H\n",
    "        self._states = set()\n",
    "        self._tasks = set()\n",
    "        self._units = set()\n",
    "        \n",
    "    def __setattr__(self, name, value):\n",
    "        if type(value) == State:\n",
    "            self._states.add(name)\n",
    "        elif type(value) == Task:\n",
    "            self._tasks.add(name)\n",
    "        elif type(value) == Unit:\n",
    "            self._units.add(name)\n",
    "        self.__dict__[name] = value\n",
    "        \n",
    "    def __repr__(self):\n",
    "        s = \"States:\\n\"\n",
    "        for name in sorted(self._states):\n",
    "            state = getattr(self, name)\n",
    "            s += \"    {0:20s}\".format(str(state))\n",
    "            s += \"    {0:6.1f}\".format(state.price)\n",
    "            s += \"    {0:6.1f}\".format(state.initialize)\n",
    "            s += \"    {0:6.1f}\\n\".format(state.capacity)\n",
    "\n",
    "        s += \"\\nTasks:\\n\"\n",
    "        for name in sorted(self._tasks):\n",
    "            task = getattr(self, name)\n",
    "            s += \"    {0:12s}\\n\".format(str(task))\n",
    "            print(task.feeds)\n",
    "            for f in task.feeds:\n",
    "                s += \"           Feed: {0:12s}\".format(str(f))\n",
    "                print(s)\n",
    "                print(getattr(f,'name'))\n",
    "                s += \"  {0:4.2f}\".format(getattr(self,f)['rho'])\n",
    "                s += \"\\n\"\n",
    "            s += \"\\n\"\n",
    "            #for f in task.feeds:\n",
    "            #    s += \"\\n           Feed: {0:12s}\".format(str(f))\n",
    "            #    s += \"  {0:4.2f}\".format(self.feeds[f]['rho'])\n",
    "            #    s += \"  {0:4.2f}\".format(self.feeds[f]['dur'])\n",
    "        \n",
    "        s += \"\\nUnits:\\n\"\n",
    "        for name in sorted(self._units):\n",
    "            unit = getattr(self, name)\n",
    "            s += \"    {0:12s}\\n\".format(str(unit))\n",
    "        return s\n",
    "\n",
    "\n",
    "class State():\n",
    "    def __init__(self, name, initialize=0, price=0, capacity=np.Inf):\n",
    "        self.name = name\n",
    "        self.initialize = initialize\n",
    "        self.price = price\n",
    "        self.capacity = capacity\n",
    "        \n",
    "    def __repr__(self):\n",
    "        return \"<State>\" + self.name\n",
    "\n",
    "\n",
    "class Task():\n",
    "    def __init__(self, name):\n",
    "        self.name = name\n",
    "        self.feeds = dict()\n",
    "        self.products = dict()\n",
    "        self.units = dict()\n",
    "        \n",
    "    def __repr__(self):\n",
    "        print(self.feeds)\n",
    "        print(self.products)\n",
    "        print(self.units)\n",
    "        return \"<Task>\" + self.name\n",
    "        \n",
    "    #def __str__(self):\n",
    "        #s = \"    {0:12s}\".format(self.name)\n",
    "        #for f in self.feeds:\n",
    "        #    s += \"\\n           Feed: {0:12s}\".format(str(f))\n",
    "        #    s += \"  {0:4.2f}\".format(self.feeds[f]['rho'])\n",
    "        #    s += \"  {0:4.2f}\".format(self.feeds[f]['dur'])\n",
    "        #for p in self.products:\n",
    "        #    s += \"\\n        Product: {0:12s}\".format(str(p))\n",
    "        #    s += \"  {0:4.2f}\".format(self.products[p]['rho'])\n",
    "        #    s += \"  {0:4.2f}\".format(self.products[p]['dur'])\n",
    "        #for u in self.units:\n",
    "        #    s += \"\\n           Unit: {0:12s}\".format(str(u))\n",
    "        #    s += \"  {0:4.2f}\".format(self.units[u]['Bmin'])\n",
    "        #    s += \"  {0:4.2f}\".format(self.units[u]['Bmax'])\n",
    "        #    s += \"  {0:4.2f}\".format(self.units[u]['tclean'])\n",
    "        #    s += \"  {0:4.2f}\".format(self.units[u]['cost'])\n",
    "        #    s += \"  {0:4.2f}\".format(self.units[u]['vcost'])\n",
    "        #return s + \"\\n\"\n",
    "    \n",
    "    def feed(self, name, rho=1, dur=0):\n",
    "        self.feeds[name] = {'rho': rho, 'dur': dur}\n",
    "    \n",
    "    def product(self, name, rho=1, dur=0):\n",
    "        self.products[name] = {'rho': rho, 'dur': dur}\n",
    "        \n",
    "    def unit(self, name, Bmin=0, Bmax=np.Inf, tclean=0, cost=0, vcost=0):\n",
    "        self.units[name] = {\n",
    "            'Bmin': Bmin, \n",
    "            'Bmax': Bmax, \n",
    "            'tclean': tclean, \n",
    "            'cost': cost, \n",
    "            'vcost': vcost}\n",
    "        name.tasks[self] = {\n",
    "            'Bmin': Bmin, \n",
    "            'Bmax': Bmax, \n",
    "            'tclean': tclean, \n",
    "            'cost': cost, \n",
    "            'vcost': vcost}\n",
    "        \n",
    "#class Feed():\n",
    "#    def __init__(state, task, rho=1, dur=0):\n",
    "        \n",
    "\n",
    "class Unit():\n",
    "    def __init__(self, name):\n",
    "        self.name = name\n",
    "        self.tasks = dict()\n",
    "        \n",
    "    def __repr__(self):\n",
    "        return \"<Unit>\" + self.name\n",
    "    \n",
    "    def task(self, name, Bmin=0, Bmax=np.Inf, tclean=0, cost=0, vcost=0):\n",
    "        self.tasks[name] = {\n",
    "            'Bmin': Bmin, \n",
    "            'Bmax': Bmax, \n",
    "            'tclean': tclean, \n",
    "            'cost': cost, \n",
    "            'vcost': vcost}\n",
    "        name.units[self] = {\n",
    "            'Bmin': Bmin, \n",
    "            'Bmax': Bmax, \n",
    "            'tclean': tclean, \n",
    "            'cost': cost, \n",
    "            'vcost': vcost}"
   ]
  },
  {
   "cell_type": "code",
   "execution_count": 2,
   "metadata": {},
   "outputs": [
    {
     "ename": "ModuleNotFoundError",
     "evalue": "No module named 'stn'",
     "output_type": "error",
     "traceback": [
      "\u001b[0;31m---------------------------------------------------------------------------\u001b[0m",
      "\u001b[0;31mModuleNotFoundError\u001b[0m                       Traceback (most recent call last)",
      "\u001b[0;32m<ipython-input-2-f8018c77b25e>\u001b[0m in \u001b[0;36m<module>\u001b[0;34m()\u001b[0m\n\u001b[0;32m----> 1\u001b[0;31m \u001b[0;32mfrom\u001b[0m \u001b[0mstn\u001b[0m \u001b[0;32mimport\u001b[0m \u001b[0mClass\u001b[0m\u001b[0;34m\u001b[0m\u001b[0m\n\u001b[0m",
      "\u001b[0;31mModuleNotFoundError\u001b[0m: No module named 'stn'"
     ]
    }
   ],
   "source": [
    "from stn import Class"
   ]
  },
  {
   "cell_type": "code",
   "execution_count": 45,
   "metadata": {},
   "outputs": [],
   "source": [
    "stn = STN(10)\n",
    "\n",
    "# specify states\n",
    "stn.feedA = State('FeedA', initialize=200)\n",
    "stn.feedB = State('FeedB', initialize=200)\n",
    "stn.feedC = State('FeedC', initialize=200)\n",
    "stn.hotA  = State('HotA', capacity=100, price=-1)\n",
    "stn.intAB = State('IntAB', capacity=200, price=-1)\n",
    "stn.intBC = State('IntBC', capacity=150, price=-1)\n",
    "stn.impureE = State('ImpureE', capacity=100, price=-1)\n",
    "stn.product1 = State('Product_1', price=10)\n",
    "stn.product2 = State('Product_2', price=10)\n",
    "\n",
    "# specify tasks\n",
    "stn.heating = Task('Heating')\n",
    "stn.heating.feed(stn.feedA)\n",
    "\n",
    "stn.reaction1 = Task('Reaction 1')\n",
    "stn.reaction1.feed(stn.feedB, rho=0.5)\n",
    "stn.reaction1.feed(stn.feedC, rho=0.5)\n",
    "stn.reaction1.product(stn.product1, rho=0.4, dur=2)\n",
    "stn.reaction1.product(stn.intAB, rho=0.6, dur=2)\n",
    "\n",
    "stn.reaction2 = Task('Reaction 2')\n",
    "stn.reaction2.feed(stn.hotA, rho=0.4)\n",
    "stn.reaction2.feed(stn.intBC, rho=0.6)\n",
    "\n",
    "stn.reaction3 = Task('Reaction 3')\n",
    "stn.reaction3.feed(stn.feedC, rho=0.2)\n",
    "stn.reaction3.feed(stn.intAB, rho=0.8)\n",
    "stn.reaction3.product(stn.impureE, dur=1)\n",
    "\n",
    "stn.separation = Task('Separation')\n",
    "stn.separation.feed(stn.impureE)\n",
    "stn.separation.product(stn.product2, rho=0.9, dur=1)\n",
    "stn.separation.product(stn.intAB, rho=0.1, dur=2)\n",
    "\n",
    "# specify units\n",
    "stn.heater = Unit('Heater')\n",
    "stn.heater.task(stn.heating, Bmax=200)\n",
    "\n",
    "stn.reactor1 = Unit('Reactor_1')\n",
    "stn.reactor1.task(stn.reaction1, Bmax=80)\n",
    "stn.reactor1.task(stn.reaction2, Bmax=80)\n",
    "stn.reactor1.task(stn.reaction3, Bmax=80)\n",
    "\n",
    "stn.reactor2 = Unit('Reactor_2')\n",
    "stn.reactor2.task(stn.reaction1, Bmax=50)\n",
    "stn.reactor2.task(stn.reaction2, Bmax=50)\n",
    "stn.reactor2.task(stn.reaction3, Bmax=50)\n",
    "\n",
    "stn.still = Unit('Still')\n",
    "stn.still.task(stn.separation, Bmax=200)"
   ]
  },
  {
   "cell_type": "code",
   "execution_count": 46,
   "metadata": {},
   "outputs": [
    {
     "name": "stdout",
     "output_type": "stream",
     "text": [
      "{<State>FeedA: {'rho': 1, 'dur': 0}}\n",
      "{}\n",
      "{<Unit>Heater: {'Bmin': 0, 'Bmax': 200, 'tclean': 0, 'cost': 0, 'vcost': 0}}\n",
      "{<State>FeedA: {'rho': 1, 'dur': 0}}\n",
      "States:\n",
      "    <State>FeedA               0.0     200.0       inf\n",
      "    <State>FeedB               0.0     200.0       inf\n",
      "    <State>FeedC               0.0     200.0       inf\n",
      "    <State>HotA               -1.0       0.0     100.0\n",
      "    <State>ImpureE            -1.0       0.0     100.0\n",
      "    <State>IntAB              -1.0       0.0     200.0\n",
      "    <State>IntBC              -1.0       0.0     150.0\n",
      "    <State>Product_1          10.0       0.0       inf\n",
      "    <State>Product_2          10.0       0.0       inf\n",
      "\n",
      "Tasks:\n",
      "    <Task>Heating\n",
      "           Feed: <State>FeedA\n",
      "FeedA\n"
     ]
    },
    {
     "ename": "TypeError",
     "evalue": "getattr(): attribute name must be string",
     "output_type": "error",
     "traceback": [
      "\u001b[0;31m---------------------------------------------------------------------------\u001b[0m",
      "\u001b[0;31mTypeError\u001b[0m                                 Traceback (most recent call last)",
      "\u001b[0;32m~/anaconda3/lib/python3.6/site-packages/IPython/core/formatters.py\u001b[0m in \u001b[0;36m__call__\u001b[0;34m(self, obj)\u001b[0m\n\u001b[1;32m    700\u001b[0m                 \u001b[0mtype_pprinters\u001b[0m\u001b[0;34m=\u001b[0m\u001b[0mself\u001b[0m\u001b[0;34m.\u001b[0m\u001b[0mtype_printers\u001b[0m\u001b[0;34m,\u001b[0m\u001b[0;34m\u001b[0m\u001b[0m\n\u001b[1;32m    701\u001b[0m                 deferred_pprinters=self.deferred_printers)\n\u001b[0;32m--> 702\u001b[0;31m             \u001b[0mprinter\u001b[0m\u001b[0;34m.\u001b[0m\u001b[0mpretty\u001b[0m\u001b[0;34m(\u001b[0m\u001b[0mobj\u001b[0m\u001b[0;34m)\u001b[0m\u001b[0;34m\u001b[0m\u001b[0m\n\u001b[0m\u001b[1;32m    703\u001b[0m             \u001b[0mprinter\u001b[0m\u001b[0;34m.\u001b[0m\u001b[0mflush\u001b[0m\u001b[0;34m(\u001b[0m\u001b[0;34m)\u001b[0m\u001b[0;34m\u001b[0m\u001b[0m\n\u001b[1;32m    704\u001b[0m             \u001b[0;32mreturn\u001b[0m \u001b[0mstream\u001b[0m\u001b[0;34m.\u001b[0m\u001b[0mgetvalue\u001b[0m\u001b[0;34m(\u001b[0m\u001b[0;34m)\u001b[0m\u001b[0;34m\u001b[0m\u001b[0m\n",
      "\u001b[0;32m~/anaconda3/lib/python3.6/site-packages/IPython/lib/pretty.py\u001b[0m in \u001b[0;36mpretty\u001b[0;34m(self, obj)\u001b[0m\n\u001b[1;32m    398\u001b[0m                         \u001b[0;32mif\u001b[0m \u001b[0mcls\u001b[0m \u001b[0;32mis\u001b[0m \u001b[0;32mnot\u001b[0m \u001b[0mobject\u001b[0m\u001b[0;31m \u001b[0m\u001b[0;31m\\\u001b[0m\u001b[0;34m\u001b[0m\u001b[0m\n\u001b[1;32m    399\u001b[0m                                 \u001b[0;32mand\u001b[0m \u001b[0mcallable\u001b[0m\u001b[0;34m(\u001b[0m\u001b[0mcls\u001b[0m\u001b[0;34m.\u001b[0m\u001b[0m__dict__\u001b[0m\u001b[0;34m.\u001b[0m\u001b[0mget\u001b[0m\u001b[0;34m(\u001b[0m\u001b[0;34m'__repr__'\u001b[0m\u001b[0;34m)\u001b[0m\u001b[0;34m)\u001b[0m\u001b[0;34m:\u001b[0m\u001b[0;34m\u001b[0m\u001b[0m\n\u001b[0;32m--> 400\u001b[0;31m                             \u001b[0;32mreturn\u001b[0m \u001b[0m_repr_pprint\u001b[0m\u001b[0;34m(\u001b[0m\u001b[0mobj\u001b[0m\u001b[0;34m,\u001b[0m \u001b[0mself\u001b[0m\u001b[0;34m,\u001b[0m \u001b[0mcycle\u001b[0m\u001b[0;34m)\u001b[0m\u001b[0;34m\u001b[0m\u001b[0m\n\u001b[0m\u001b[1;32m    401\u001b[0m \u001b[0;34m\u001b[0m\u001b[0m\n\u001b[1;32m    402\u001b[0m             \u001b[0;32mreturn\u001b[0m \u001b[0m_default_pprint\u001b[0m\u001b[0;34m(\u001b[0m\u001b[0mobj\u001b[0m\u001b[0;34m,\u001b[0m \u001b[0mself\u001b[0m\u001b[0;34m,\u001b[0m \u001b[0mcycle\u001b[0m\u001b[0;34m)\u001b[0m\u001b[0;34m\u001b[0m\u001b[0m\n",
      "\u001b[0;32m~/anaconda3/lib/python3.6/site-packages/IPython/lib/pretty.py\u001b[0m in \u001b[0;36m_repr_pprint\u001b[0;34m(obj, p, cycle)\u001b[0m\n\u001b[1;32m    693\u001b[0m     \u001b[0;34m\"\"\"A pprint that just redirects to the normal repr function.\"\"\"\u001b[0m\u001b[0;34m\u001b[0m\u001b[0m\n\u001b[1;32m    694\u001b[0m     \u001b[0;31m# Find newlines and replace them with p.break_()\u001b[0m\u001b[0;34m\u001b[0m\u001b[0;34m\u001b[0m\u001b[0m\n\u001b[0;32m--> 695\u001b[0;31m     \u001b[0moutput\u001b[0m \u001b[0;34m=\u001b[0m \u001b[0mrepr\u001b[0m\u001b[0;34m(\u001b[0m\u001b[0mobj\u001b[0m\u001b[0;34m)\u001b[0m\u001b[0;34m\u001b[0m\u001b[0m\n\u001b[0m\u001b[1;32m    696\u001b[0m     \u001b[0;32mfor\u001b[0m \u001b[0midx\u001b[0m\u001b[0;34m,\u001b[0m\u001b[0moutput_line\u001b[0m \u001b[0;32min\u001b[0m \u001b[0menumerate\u001b[0m\u001b[0;34m(\u001b[0m\u001b[0moutput\u001b[0m\u001b[0;34m.\u001b[0m\u001b[0msplitlines\u001b[0m\u001b[0;34m(\u001b[0m\u001b[0;34m)\u001b[0m\u001b[0;34m)\u001b[0m\u001b[0;34m:\u001b[0m\u001b[0;34m\u001b[0m\u001b[0m\n\u001b[1;32m    697\u001b[0m         \u001b[0;32mif\u001b[0m \u001b[0midx\u001b[0m\u001b[0;34m:\u001b[0m\u001b[0;34m\u001b[0m\u001b[0m\n",
      "\u001b[0;32m<ipython-input-44-7bc00c1dd385>\u001b[0m in \u001b[0;36m__repr__\u001b[0;34m(self)\u001b[0m\n\u001b[1;32m     40\u001b[0m                 \u001b[0mprint\u001b[0m\u001b[0;34m(\u001b[0m\u001b[0ms\u001b[0m\u001b[0;34m)\u001b[0m\u001b[0;34m\u001b[0m\u001b[0m\n\u001b[1;32m     41\u001b[0m                 \u001b[0mprint\u001b[0m\u001b[0;34m(\u001b[0m\u001b[0mgetattr\u001b[0m\u001b[0;34m(\u001b[0m\u001b[0mf\u001b[0m\u001b[0;34m,\u001b[0m\u001b[0;34m'name'\u001b[0m\u001b[0;34m)\u001b[0m\u001b[0;34m)\u001b[0m\u001b[0;34m\u001b[0m\u001b[0m\n\u001b[0;32m---> 42\u001b[0;31m                 \u001b[0ms\u001b[0m \u001b[0;34m+=\u001b[0m \u001b[0;34m\"  {0:4.2f}\"\u001b[0m\u001b[0;34m.\u001b[0m\u001b[0mformat\u001b[0m\u001b[0;34m(\u001b[0m\u001b[0mgetattr\u001b[0m\u001b[0;34m(\u001b[0m\u001b[0mself\u001b[0m\u001b[0;34m,\u001b[0m\u001b[0mf\u001b[0m\u001b[0;34m)\u001b[0m\u001b[0;34m[\u001b[0m\u001b[0;34m'rho'\u001b[0m\u001b[0;34m]\u001b[0m\u001b[0;34m)\u001b[0m\u001b[0;34m\u001b[0m\u001b[0m\n\u001b[0m\u001b[1;32m     43\u001b[0m                 \u001b[0ms\u001b[0m \u001b[0;34m+=\u001b[0m \u001b[0;34m\"\\n\"\u001b[0m\u001b[0;34m\u001b[0m\u001b[0m\n\u001b[1;32m     44\u001b[0m             \u001b[0ms\u001b[0m \u001b[0;34m+=\u001b[0m \u001b[0;34m\"\\n\"\u001b[0m\u001b[0;34m\u001b[0m\u001b[0m\n",
      "\u001b[0;31mTypeError\u001b[0m: getattr(): attribute name must be string"
     ]
    }
   ],
   "source": [
    "stn"
   ]
  },
  {
   "cell_type": "code",
   "execution_count": 40,
   "metadata": {},
   "outputs": [
    {
     "name": "stdout",
     "output_type": "stream",
     "text": [
      "{<State>FeedB: {'rho': 0.5, 'dur': 0}, <State>FeedC: {'rho': 0.5, 'dur': 0}}\n",
      "{<State>Product_1: {'rho': 0.4, 'dur': 2}, <State>IntAB: {'rho': 0.6, 'dur': 2}}\n",
      "{<Unit>Reactor_1: {'Bmin': 0, 'Bmax': 80, 'tclean': 0, 'cost': 0, 'vcost': 0}, <Unit>Reactor_2: {'Bmin': 0, 'Bmax': 50, 'tclean': 0, 'cost': 0, 'vcost': 0}}\n",
      "{<State>HotA: {'rho': 0.4, 'dur': 0}, <State>IntBC: {'rho': 0.6, 'dur': 0}}\n",
      "{}\n",
      "{<Unit>Reactor_1: {'Bmin': 0, 'Bmax': 80, 'tclean': 0, 'cost': 0, 'vcost': 0}, <Unit>Reactor_2: {'Bmin': 0, 'Bmax': 50, 'tclean': 0, 'cost': 0, 'vcost': 0}}\n",
      "{<State>FeedC: {'rho': 0.2, 'dur': 0}, <State>IntAB: {'rho': 0.8, 'dur': 0}}\n",
      "{<State>ImpureE: {'rho': 1, 'dur': 1}}\n",
      "{<Unit>Reactor_1: {'Bmin': 0, 'Bmax': 80, 'tclean': 0, 'cost': 0, 'vcost': 0}, <Unit>Reactor_2: {'Bmin': 0, 'Bmax': 50, 'tclean': 0, 'cost': 0, 'vcost': 0}}\n"
     ]
    },
    {
     "data": {
      "text/plain": [
       "{<Task>Reaction 1: {'Bmin': 0, 'Bmax': 80, 'tclean': 0, 'cost': 0, 'vcost': 0},\n",
       " <Task>Reaction 2: {'Bmin': 0, 'Bmax': 80, 'tclean': 0, 'cost': 0, 'vcost': 0},\n",
       " <Task>Reaction 3: {'Bmin': 0, 'Bmax': 80, 'tclean': 0, 'cost': 0, 'vcost': 0}}"
      ]
     },
     "execution_count": 40,
     "metadata": {},
     "output_type": "execute_result"
    }
   ],
   "source": [
    "stn.reactor1.tasks"
   ]
  },
  {
   "cell_type": "code",
   "execution_count": 13,
   "metadata": {},
   "outputs": [
    {
     "data": {
      "text/plain": [
       "{<Unit>Reactor_1: {'Bmin': 0, 'Bmax': 80, 'tclean': 0, 'cost': 0, 'vcost': 0},\n",
       " <Unit>Reactor_2: {'Bmin': 0, 'Bmax': 50, 'tclean': 0, 'cost': 0, 'vcost': 0}}"
      ]
     },
     "execution_count": 13,
     "metadata": {},
     "output_type": "execute_result"
    }
   ],
   "source": [
    "stn.reaction1.units"
   ]
  },
  {
   "cell_type": "code",
   "execution_count": 14,
   "metadata": {},
   "outputs": [
    {
     "data": {
      "text/plain": [
       "{'heating', 'reaction1', 'reaction2', 'reaction3', 'separation'}"
      ]
     },
     "execution_count": 14,
     "metadata": {},
     "output_type": "execute_result"
    }
   ],
   "source": [
    "stn._tasks"
   ]
  },
  {
   "cell_type": "code",
   "execution_count": 15,
   "metadata": {},
   "outputs": [
    {
     "ename": "SyntaxError",
     "evalue": "unexpected EOF while parsing (<ipython-input-15-88195c1bb58e>, line 2)",
     "output_type": "error",
     "traceback": [
      "\u001b[0;36m  File \u001b[0;32m\"<ipython-input-15-88195c1bb58e>\"\u001b[0;36m, line \u001b[0;32m2\u001b[0m\n\u001b[0;31m    \u001b[0m\n\u001b[0m    ^\u001b[0m\n\u001b[0;31mSyntaxError\u001b[0m\u001b[0;31m:\u001b[0m unexpected EOF while parsing\n"
     ]
    }
   ],
   "source": [
    "for f in stn._tasks:\n",
    "    "
   ]
  },
  {
   "cell_type": "code",
   "execution_count": 765,
   "metadata": {},
   "outputs": [
    {
     "data": {
      "text/plain": [
       "Heating"
      ]
     },
     "execution_count": 765,
     "metadata": {},
     "output_type": "execute_result"
    }
   ],
   "source": [
    "stn.heating"
   ]
  },
  {
   "cell_type": "code",
   "execution_count": 768,
   "metadata": {},
   "outputs": [],
   "source": [
    "task = getattr(stn, 'reaction1')"
   ]
  },
  {
   "cell_type": "code",
   "execution_count": 772,
   "metadata": {},
   "outputs": [
    {
     "data": {
      "text/plain": [
       "0"
      ]
     },
     "execution_count": 772,
     "metadata": {},
     "output_type": "execute_result"
    }
   ],
   "source": [
    "task.feeds[stn.feedB]['dur']"
   ]
  },
  {
   "cell_type": "code",
   "execution_count": null,
   "metadata": {},
   "outputs": [],
   "source": []
  }
 ],
 "metadata": {
  "kernelspec": {
   "display_name": "Python 3",
   "language": "python",
   "name": "python3"
  },
  "language_info": {
   "codemirror_mode": {
    "name": "ipython",
    "version": 3
   },
   "file_extension": ".py",
   "mimetype": "text/x-python",
   "name": "python",
   "nbconvert_exporter": "python",
   "pygments_lexer": "ipython3",
   "version": "3.6.5"
  }
 },
 "nbformat": 4,
 "nbformat_minor": 2
}
